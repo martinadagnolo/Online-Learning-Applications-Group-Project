{
 "cells": [
  {
   "cell_type": "markdown",
   "metadata": {},
   "source": [
    "# Bonus Point - Multiple Products Gaussian Process In Stochastic Environment"
   ]
  },
  {
   "cell_type": "markdown",
   "metadata": {},
   "source": [
    "## Assumptions\n",
    "The demand is stochastic and has some subgaussian noise \\\n",
    "The costs and the prices are values between 0 and 1 \\\n",
    "The demand for each price is a value is between 0 and 1"
   ]
  },
  {
   "cell_type": "markdown",
   "metadata": {},
   "source": [
    "## Imports\n",
    "Import the necessary libraries"
   ]
  },
  {
   "cell_type": "code",
   "execution_count": 1,
   "metadata": {},
   "outputs": [],
   "source": [
    "import numpy as np\n",
    "import matplotlib.pyplot as plt\n",
    "import time"
   ]
  },
  {
   "cell_type": "markdown",
   "metadata": {},
   "source": [
    "## Demand Function\n",
    "The demand function returns the number of buyers for product $i_1$ and $i_2$ based on the price $p_1$ of product $i_1$, on the price $p_2$ of product $i_2$ and on the noise. The demand of each product depends on its price, the price of the other product, and some noise.\n",
    "a, b and c are parameters that regulate the dependency of the demand on each factor."
   ]
  },
  {
   "cell_type": "code",
   "execution_count": 2,
   "metadata": {},
   "outputs": [],
   "source": [
    "def demand_function(p1, p2, a=70, b=35, c=0.5):\n",
    "    noise = np.random.normal(0, 0.05)\n",
    "    buy_probability_product1 = max(0, 1/(1+np.exp(-(c - a * p1 + b * p2))) + noise)\n",
    "    buy_probability_product2 = max(0, 1/(1+np.exp(-(c - b * p2 + a * p1))) + noise)\n",
    "    return buy_probability_product1, buy_probability_product2"
   ]
  },
  {
   "cell_type": "markdown",
   "metadata": {},
   "source": [
    "## Reward function\n",
    "Returns the revenue given the demand, the price and the cost of each product."
   ]
  },
  {
   "cell_type": "code",
   "execution_count": 3,
   "metadata": {},
   "outputs": [],
   "source": [
    "reward_function = lambda p_1, p_2, n_sales_1, n_sales_2, cost_1, cost_2: (p_1-cost_1)*n_sales_1+(p_2-cost_2)*n_sales_2"
   ]
  },
  {
   "cell_type": "markdown",
   "metadata": {},
   "source": [
    "# Environment Class\n",
    "Instantiated taking as input the demand function, the reward function and the costs of the two products\n",
    "At each round takes in input the prices of the two products and returns the demand of each product and the revenue of the round for the two products"
   ]
  },
  {
   "cell_type": "code",
   "execution_count": 4,
   "metadata": {},
   "outputs": [],
   "source": [
    "class PricingEnvironment:\n",
    "    def __init__(self, demand_function, reward_function, cost_1, cost_2):\n",
    "        self.demand_function = demand_function\n",
    "        self.reward_function = reward_function\n",
    "        self.cost_1 = cost_1\n",
    "        self.cost_2 = cost_2\n",
    "        self.t = 0\n",
    "    \n",
    "    def round(self, p1, p2):\n",
    "        demand_i1_t, demand_i2_t = demand_function(p1, p2)\n",
    "        revenue = reward_function(p1, p2, demand_i1_t, demand_i2_t, cost_1, cost_2)\n",
    "        self.t += 1\n",
    "        return demand_i1_t, demand_i2_t, revenue"
   ]
  },
  {
   "cell_type": "markdown",
   "metadata": {},
   "source": [
    "## Gaussian Process\n",
    "Gaussian Process with a Radial Basis Function Kernel: A regret minimizer for the continuous action set $[0, 1]^2$"
   ]
  },
  {
   "cell_type": "code",
   "execution_count": 5,
   "metadata": {},
   "outputs": [],
   "source": [
    "# Gaussian process from class (adapted to the 2-dimensional setting)\n",
    "class RBFGaussianProcess:\n",
    "    def __init__(self, scale=1, reg=1e-2):\n",
    "        self.scale = scale \n",
    "        self.reg = reg\n",
    "        self.k_xx_inv = None\n",
    "\n",
    "    def rbf_kernel_incr_inv(self, B, C, D):\n",
    "        temp = np.linalg.inv(D - C @ self.k_xx_inv @ B)\n",
    "        block1 = self.k_xx_inv + self.k_xx_inv @ B @ temp @ C @ self.k_xx_inv\n",
    "        block2 = - self.k_xx_inv @ B @ temp\n",
    "        block3 = - temp @ C @ self.k_xx_inv\n",
    "        block4 = temp\n",
    "        res1 = np.concatenate((block1, block2), axis=1)\n",
    "        res2 = np.concatenate((block3, block4), axis=1)\n",
    "        res = np.concatenate((res1, res2), axis=0)\n",
    "        return res\n",
    "\n",
    "    def rbf_kernel(self, a, b):\n",
    "        a_ = a.reshape(-1, a.shape[-1])\n",
    "        b_ = b.reshape(-1, b.shape[-1])\n",
    "        output = -1 * np.ones((a_.shape[0], b_.shape[0]))\n",
    "        for i in range(a_.shape[0]):\n",
    "            output[i, :] = np.sum(np.power(a_[i] - b_, 2), axis=1).ravel()\n",
    "        return np.exp(-self.scale * output)\n",
    "    \n",
    "    def fit(self, x=np.array([]), y=np.array([])):\n",
    "        x, y = np.array(x), np.array(y)\n",
    "        if self.k_xx_inv is None:\n",
    "            self.y = y.reshape(-1, 1)\n",
    "            self.x = x\n",
    "            k_xx = self.rbf_kernel(self.x, self.x) + self.reg * np.eye(self.x.shape[0])\n",
    "            self.k_xx_inv = np.linalg.inv(k_xx)\n",
    "        else:\n",
    "            B = self.rbf_kernel(self.x, x)\n",
    "            self.x = np.vstack((self.x, x))\n",
    "            self.y = np.vstack((self.y, y))\n",
    "            self.k_xx_inv = self.rbf_kernel_incr_inv(B, B.T, self.rbf_kernel(x, x) + self.reg * np.eye(x.shape[0]))\n",
    "\n",
    "        return self\n",
    "\n",
    "    def predict(self, x_predict):\n",
    "        k = self.rbf_kernel(x_predict, self.x)\n",
    "        mu_hat = k @ self.k_xx_inv @ self.y\n",
    "        sigma_hat = 1 - np.diag(k @ self.k_xx_inv @ k.T)\n",
    "        return mu_hat.ravel(), sigma_hat.ravel()"
   ]
  },
  {
   "cell_type": "markdown",
   "metadata": {},
   "source": [
    "## IGP-UCB Algorithm for 2-dimensional pricing"
   ]
  },
  {
   "cell_type": "code",
   "execution_count": 6,
   "metadata": {},
   "outputs": [],
   "source": [
    "# IGP-UCB Algorithm\n",
    "class IGP_UCB:\n",
    "    def __init__(self, kernel, T, B, R, delta, gamma_func):\n",
    "        self.kernel = kernel\n",
    "        self.T = T\n",
    "        self.B = B\n",
    "        self.R = R\n",
    "        self.delta = delta\n",
    "        self.gamma_func = gamma_func\n",
    "        self.x = []\n",
    "        self.y = []\n",
    "        self.regret = []\n",
    "        self.gamma = [0]\n",
    "\n",
    "    def beta_t(self, t):\n",
    "        gamma_t_minus_1 = self.gamma[-1]\n",
    "        return self.B + self.R * np.sqrt(2 * (gamma_t_minus_1 + 1 + np.log(1 / self.delta)))\n",
    "\n",
    "    def run(self):\n",
    "        for t in range(1, self.T + 1):\n",
    "            if t == 1:\n",
    "                p1, p2 = np.random.uniform(0, 1, 2)\n",
    "            else:\n",
    "                # Predict mean and variance\n",
    "                X1 = np.linspace(0, 1, 20)\n",
    "                X2 = np.linspace(0, 1, 20)\n",
    "                X_test = np.array([[p1, p2] for p1 in X1 for p2 in X2])\n",
    "                mu, sigma = self.kernel.predict(X_test)\n",
    "                ucb = mu + self.beta_t(t) * np.sqrt(sigma)\n",
    "                p1, p2 = X_test[np.argmax(ucb)]\n",
    "\n",
    "            # Observe the demand\n",
    "            demand_i1_t,  demand_i2_t, revenue = env.round(p1, p2)\n",
    "\n",
    "\n",
    "            # Update the kernel with the new observation\n",
    "            self.kernel.fit(np.array([[p1, p2]]), np.array([revenue]))\n",
    "\n",
    "            self.x.append([p1, p2])\n",
    "            self.y.append(revenue)\n",
    "\n",
    "            # Calculate regret\n",
    "            demand_i1_bp, demand_i2_bp = demand_function(best_price[0], best_price[1])\n",
    "            optimal_revenue = reward_function(best_price[0], best_price[1], demand_i1_bp, demand_i2_bp, cost_1, cost_2)\n",
    "            self.regret.append(optimal_revenue - revenue)\n",
    "\n",
    "            # Update gamma\n",
    "            self.gamma.append(self.gamma_func(self.x, self.y, self.kernel))"
   ]
  },
  {
   "cell_type": "markdown",
   "metadata": {},
   "source": [
    "### Set parameters\n",
    "Set some parameters: \n",
    "The number of epochs the algorithm is run \\\n",
    "The number of times we run the algorithm \\\n",
    "The parameters of the IGP-UCB algorithms for tuning the bias in the UCB, the noise level and the confidence level"
   ]
  },
  {
   "cell_type": "code",
   "execution_count": 7,
   "metadata": {},
   "outputs": [],
   "source": [
    "n_epochs = 10\n",
    "T = 500\n",
    "B = 0.5\n",
    "R = 2.0\n",
    "delta = 0.01"
   ]
  },
  {
   "cell_type": "markdown",
   "metadata": {},
   "source": [
    "## Gamma function\n",
    "function to compute the complexity of the gaussian process model"
   ]
  },
  {
   "cell_type": "code",
   "execution_count": 8,
   "metadata": {},
   "outputs": [],
   "source": [
    "# Define the gamma function\n",
    "def gamma_func(x, y, kernel):\n",
    "    # Maximum information gain calculation\n",
    "    K = kernel.rbf_kernel(np.array(x), np.array(x))\n",
    "    return 0.5 * np.log(np.linalg.det(np.eye(len(x)) + K))"
   ]
  },
  {
   "cell_type": "markdown",
   "metadata": {},
   "source": [
    "Set the costs of the products "
   ]
  },
  {
   "cell_type": "code",
   "execution_count": 9,
   "metadata": {},
   "outputs": [],
   "source": [
    "cost_1 = 0.2\n",
    "cost_2 = 0.3"
   ]
  },
  {
   "cell_type": "markdown",
   "metadata": {},
   "source": [
    "## Clairvoyant\n",
    "Compute the expected clairvoyant (best fixed couple of prices that optimize the revenue)"
   ]
  },
  {
   "cell_type": "code",
   "execution_count": 10,
   "metadata": {},
   "outputs": [],
   "source": [
    "# Calculate optimal revenue\n",
    "prices = np.linspace(0, 1, 100)\n",
    "profit_curve = np.zeros((len(prices), len(prices)))\n",
    "for i, p1 in enumerate(prices):\n",
    "    for j, p2 in enumerate(prices):\n",
    "        d1, d2 = demand_function(p1, p2)\n",
    "        profit_curve[i, j] = reward_function(p1, p2, d1, d2, cost_1, cost_2)\n",
    "\n",
    "\n",
    "best_price_indices = np.unravel_index(np.argmax(profit_curve), profit_curve.shape)\n",
    "best_price = (prices[best_price_indices[0]], prices[best_price_indices[1]])\n",
    "optimal_revenue = profit_curve[best_price_indices]\n",
    "expected_clairvoyant_rewards = np.repeat(optimal_revenue, T)"
   ]
  },
  {
   "cell_type": "markdown",
   "metadata": {},
   "source": [
    "## Run The algorithm\n",
    "\n",
    "Run IGP-UCB for the predefined time horizon, calculate the cumulative regret and its standard deviation, and measure the time it takes for it to run."
   ]
  },
  {
   "cell_type": "code",
   "execution_count": 11,
   "metadata": {},
   "outputs": [
    {
     "name": "stdout",
     "output_type": "stream",
     "text": [
      "Time taken to run 10 epochs: 114.51272892951965 seconds\n"
     ]
    }
   ],
   "source": [
    "# Run IGP-UCB for 10 epochs\n",
    "\n",
    "env = PricingEnvironment(demand_function, reward_function, cost_1, cost_2)\n",
    "\n",
    "cumulative_regrets = []\n",
    "\n",
    "start_time = time.time()\n",
    "for epoch in range(n_epochs):\n",
    "    np.random.seed(epoch)\n",
    "    kernel = RBFGaussianProcess(scale=1, reg=1e-2)\n",
    "    igp_ucb = IGP_UCB(kernel, T, B, R, delta, gamma_func)\n",
    "    igp_ucb.run()\n",
    "    cumulative_regrets.append(np.cumsum(igp_ucb.regret))\n",
    "end_time = time.time()\n",
    "\n",
    "cumulative_regrets = np.array(cumulative_regrets)\n",
    "average_cumulative_regret = cumulative_regrets.mean(axis=0)\n",
    "cumulative_regret_std = cumulative_regrets.std(axis=0)\n",
    "\n",
    "print(f\"Time taken to run {n_epochs} epochs: {end_time - start_time} seconds\")"
   ]
  },
  {
   "cell_type": "markdown",
   "metadata": {},
   "source": [
    "## Plot of the cumulative regret\n",
    "Plot of the cumulative regret of the IGP-UCB with respect to the clairvoyant computed before (in blue)\n",
    "A square root of T line is represented in orange for a comparison to see if the IGP-UCB algorithm's regret is sublinear"
   ]
  },
  {
   "cell_type": "code",
   "execution_count": 12,
   "metadata": {},
   "outputs": [
    {
     "data": {
      "image/png": "[encoded data removed]",
      "text/plain": [
       "<Figure size 640x480 with 1 Axes>"
      ]
     },
     "metadata": {},
     "output_type": "display_data"
    }
   ],
   "source": [
    "plt.plot(np.arange(T), average_cumulative_regret, label='IGP-UCB Average Regret')\n",
    "plt.fill_between(np.arange(T),\n",
    "                 average_cumulative_regret - cumulative_regret_std / np.sqrt(n_epochs),\n",
    "                 average_cumulative_regret + cumulative_regret_std / np.sqrt(n_epochs),\n",
    "                 alpha=0.3)\n",
    "\n",
    "# Add a sublinear comparison line (e.g., sqrt(T))\n",
    "sqrt_T = np.sqrt(np.arange(T))\n",
    "plt.plot(np.arange(T), sqrt_T, label='sqrt(T)')\n",
    "\n",
    "plt.xlabel('Time')\n",
    "plt.ylabel('Cumulative Regret')\n",
    "plt.title('Cumulative Regret of IGP-UCB over 10 Epochs')\n",
    "plt.legend()\n",
    "plt.show()"
   ]
  }
 ],
 "metadata": {
  "kernelspec": {
   "display_name": ".venv",
   "language": "python",
   "name": "python3"
  },
  "language_info": {
   "codemirror_mode": {
    "name": "ipython",
    "version": 3
   },
   "file_extension": ".py",
   "mimetype": "text/x-python",
   "name": "python",
   "nbconvert_exporter": "python",
   "pygments_lexer": "ipython3",
   "version": "3.11.9"
  }
 },
 "nbformat": 4,
 "nbformat_minor": 2
}
